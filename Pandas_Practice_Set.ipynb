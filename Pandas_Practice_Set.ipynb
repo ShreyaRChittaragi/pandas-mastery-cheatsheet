{
 "cells": [
  {
   "cell_type": "code",
   "execution_count": 1,
   "id": "998c2950-76c7-434d-a3da-5dea608f87b2",
   "metadata": {},
   "outputs": [],
   "source": [
    "import pandas as pd"
   ]
  },
  {
   "cell_type": "code",
   "execution_count": 2,
   "id": "89b085b0-35ae-499b-b04e-e28ea584475b",
   "metadata": {},
   "outputs": [],
   "source": [
    "people = pd.DataFrame({\n",
    "    'Name': ['A', 'B', 'C', 'D'],\n",
    "    'City': ['X', 'Y', 'X', 'Z'],\n",
    "    'Sales': [200, 150, 300, 250]\n",
    "})"
   ]
  },
  {
   "cell_type": "code",
   "execution_count": 3,
   "id": "c2cd95c1-df7d-4b63-a034-48dd13b1d429",
   "metadata": {},
   "outputs": [
    {
     "data": {
      "text/html": [
       "<div>\n",
       "<style scoped>\n",
       "    .dataframe tbody tr th:only-of-type {\n",
       "        vertical-align: middle;\n",
       "    }\n",
       "\n",
       "    .dataframe tbody tr th {\n",
       "        vertical-align: top;\n",
       "    }\n",
       "\n",
       "    .dataframe thead th {\n",
       "        text-align: right;\n",
       "    }\n",
       "</style>\n",
       "<table border=\"1\" class=\"dataframe\">\n",
       "  <thead>\n",
       "    <tr style=\"text-align: right;\">\n",
       "      <th></th>\n",
       "      <th>Name</th>\n",
       "      <th>City</th>\n",
       "      <th>Sales</th>\n",
       "    </tr>\n",
       "  </thead>\n",
       "  <tbody>\n",
       "    <tr>\n",
       "      <th>2</th>\n",
       "      <td>C</td>\n",
       "      <td>X</td>\n",
       "      <td>300</td>\n",
       "    </tr>\n",
       "    <tr>\n",
       "      <th>3</th>\n",
       "      <td>D</td>\n",
       "      <td>Z</td>\n",
       "      <td>250</td>\n",
       "    </tr>\n",
       "  </tbody>\n",
       "</table>\n",
       "</div>"
      ],
      "text/plain": [
       "  Name City  Sales\n",
       "2    C    X    300\n",
       "3    D    Z    250"
      ]
     },
     "execution_count": 3,
     "metadata": {},
     "output_type": "execute_result"
    }
   ],
   "source": [
    "# ✅ Practice 1: Filter rows\n",
    "people[people['Sales'] > 200]"
   ]
  },
  {
   "cell_type": "code",
   "execution_count": 4,
   "id": "5741ff24-e88a-4067-b137-1bacfb380a48",
   "metadata": {},
   "outputs": [
    {
     "data": {
      "text/plain": [
       "City\n",
       "X    500\n",
       "Y    150\n",
       "Z    250\n",
       "Name: Sales, dtype: int64"
      ]
     },
     "execution_count": 4,
     "metadata": {},
     "output_type": "execute_result"
    }
   ],
   "source": [
    "# ✅ Practice 2: Group and Aggregate\n",
    "people.groupby('City')['Sales'].sum()\n"
   ]
  },
  {
   "cell_type": "code",
   "execution_count": 5,
   "id": "581e40df-a29f-471e-ac31-575b45d3bd6e",
   "metadata": {},
   "outputs": [],
   "source": [
    "# ✅ Practice 3: Ranking and Cumulative Sum\n",
    "people['Rank'] = people['Sales'].rank()\n",
    "people['Cumulative'] = people['Sales'].cumsum()"
   ]
  },
  {
   "cell_type": "code",
   "execution_count": 8,
   "id": "224b5d85-f234-4259-8026-4ed96091f635",
   "metadata": {},
   "outputs": [
    {
     "name": "stdout",
     "output_type": "stream",
     "text": [
      "Used alternative approach. Result:\n",
      "  Name City  Sales  Rank  Cumulative\n",
      "0    A    X    200   2.0         200\n",
      "1    B    Y    150   1.0         350\n",
      "2    C    X    300   4.0         650\n",
      "3    D    Z    250   3.0         900\n"
     ]
    }
   ],
   "source": [
    "people['Sales'] = people['Sales'].fillna(0)\n",
    "print(\"Used alternative approach. Result:\")\n",
    "print(people)"
   ]
  }
 ],
 "metadata": {
  "kernelspec": {
   "display_name": "Python [conda env:base] *",
   "language": "python",
   "name": "conda-base-py"
  },
  "language_info": {
   "codemirror_mode": {
    "name": "ipython",
    "version": 3
   },
   "file_extension": ".py",
   "mimetype": "text/x-python",
   "name": "python",
   "nbconvert_exporter": "python",
   "pygments_lexer": "ipython3",
   "version": "3.12.7"
  }
 },
 "nbformat": 4,
 "nbformat_minor": 5
}
