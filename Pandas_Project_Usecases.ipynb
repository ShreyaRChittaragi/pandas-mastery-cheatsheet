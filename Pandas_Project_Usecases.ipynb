{
 "cells": [
  {
   "cell_type": "code",
   "execution_count": null,
   "id": "bcad5213-a591-477d-a488-79698e920866",
   "metadata": {},
   "outputs": [],
   "source": [
    "# 📒 PANDAS PROJECT USE-CASES\n",
    "\n",
    "import pandas as pd\n",
    "import matplotlib.pyplot as plt\n",
    "\n",
    "# 📊 1. Retail Sales Dashboard\n",
    "df = pd.read_csv('sales.csv')\n",
    "df['Date'] = pd.to_datetime(df['Date'])\n",
    "monthly_sales = df.resample('M', on='Date')['Sales'].sum()\n",
    "monthly_sales.plot(title='Monthly Sales', ylabel='₹', xlabel='Date')\n",
    "plt.show()\n",
    "\n",
    "# 🏙️ 2. City-wise Demographics\n",
    "df.groupby('City')['Population'].mean().plot(kind='bar', title='Avg City Population')\n",
    "plt.show()\n",
    "\n",
    "# 📈 3. Time-Based Performance Analytics\n",
    "df.set_index('Date', inplace=True)\n",
    "df['Profit'].rolling(window=7).mean().plot(title='7-Day Rolling Profit')\n",
    "plt.show()\n"
   ]
  }
 ],
 "metadata": {
  "kernelspec": {
   "display_name": "Python [conda env:base] *",
   "language": "python",
   "name": "conda-base-py"
  },
  "language_info": {
   "codemirror_mode": {
    "name": "ipython",
    "version": 3
   },
   "file_extension": ".py",
   "mimetype": "text/x-python",
   "name": "python",
   "nbconvert_exporter": "python",
   "pygments_lexer": "ipython3",
   "version": "3.12.7"
  }
 },
 "nbformat": 4,
 "nbformat_minor": 5
}
